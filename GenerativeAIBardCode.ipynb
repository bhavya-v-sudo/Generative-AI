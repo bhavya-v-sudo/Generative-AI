{
  "nbformat": 4,
  "nbformat_minor": 0,
  "metadata": {
    "colab": {
      "provenance": [],
      "authorship_tag": "ABX9TyOAApVWaH5ZlF3V2ag/W0A0",
      "include_colab_link": true
    },
    "kernelspec": {
      "name": "python3",
      "display_name": "Python 3"
    },
    "language_info": {
      "name": "python"
    }
  },
  "cells": [
    {
      "cell_type": "markdown",
      "metadata": {
        "id": "view-in-github",
        "colab_type": "text"
      },
      "source": [
        "<a href=\"https://colab.research.google.com/github/bhavya-v-sudo/Generative-AI/blob/main/GenerativeAIBardCode.ipynb\" target=\"_parent\"><img src=\"https://colab.research.google.com/assets/colab-badge.svg\" alt=\"Open In Colab\"/></a>"
      ]
    },
    {
      "cell_type": "code",
      "source": [
        "!pip install -q -U google-generativeai"
      ],
      "metadata": {
        "id": "NPU1K4sJ46Ow"
      },
      "execution_count": 49,
      "outputs": []
    },
    {
      "cell_type": "code",
      "source": [
        "import pathlib\n",
        "import textwrap\n",
        "\n",
        "import google.generativeai as genai\n",
        "\n",
        "from IPython.display import display\n",
        "from IPython.display import Markdown\n",
        "\n",
        "\n",
        "# Used to securely store your API key\n",
        "from google.colab import userdata\n",
        "\n",
        "# Or use `os.getenv('GOOGLE_API_KEY')` to fetch an environment variable.\n",
        "GOOGLE_API_KEY=userdata.get('GOOGLE_API_KEY')\n",
        "\n",
        "genai.configure(api_key=GOOGLE_API_KEY)\n",
        "\n",
        "for m in genai.list_models():\n",
        "  if 'generateContent' in m.supported_generation_methods:\n",
        "    print(m.name)\n",
        "\n",
        "model = genai.GenerativeModel('gemini-pro')\n",
        "\n",
        "from google.colab import drive\n",
        "drive.mount('/content/drive')\n",
        "\n",
        "\n",
        "\n",
        "# Specify the path to your Excel file\n",
        "# Update the file_path accordingly\n",
        "file_path = '/content/drive/MyDrive/Company Name/Company_name.xlsx'\n",
        "\n",
        "import pandas as pd\n",
        "df = pd.read_excel(file_path)\n",
        "\n",
        "df['IT/Non-IT'] = ''\n",
        "df['Sector'] = ''\n",
        "\n",
        "import time\n",
        "\n",
        "for index, row in df.iterrows():\n",
        "  company_name = row[0]\n",
        "  time.sleep(2)\n",
        "  response = model.generate_content(f\"Company name - {company_name} comes under IT or non IT?\")\n",
        "  if response.parts:\n",
        "    df.loc[index, 'IT/Non-IT'] = response.text\n",
        "  time.sleep(2)\n",
        "  response1 = model.generate_content(f\"Company name - {company_name} comes under which sector?\")\n",
        "  if response1.parts:\n",
        "    df.loc[index, 'Sector'] = response1.text\n",
        "\n",
        "\n",
        "df.to_excel('/content/drive/MyDrive/Company Name/Company_name1.xlsx')"
      ],
      "metadata": {
        "id": "5RxQ-JU5yyJ7"
      },
      "execution_count": 34,
      "outputs": []
    }
  ]
}